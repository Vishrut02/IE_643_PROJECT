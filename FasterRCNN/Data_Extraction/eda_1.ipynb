{
 "cells": [
  {
   "cell_type": "code",
   "execution_count": 1,
   "id": "78149186",
   "metadata": {
    "_cell_guid": "b1076dfc-b9ad-4769-8c92-a6c4dae69d19",
    "_uuid": "8f2839f25d086af736a60e9eeb907d3b93b6e0e5",
    "execution": {
     "iopub.execute_input": "2024-10-19T08:20:13.951950Z",
     "iopub.status.busy": "2024-10-19T08:20:13.951655Z",
     "iopub.status.idle": "2024-10-19T08:20:14.046395Z",
     "shell.execute_reply": "2024-10-19T08:20:14.045731Z"
    },
    "papermill": {
     "duration": 0.100033,
     "end_time": "2024-10-19T08:20:14.048442",
     "exception": false,
     "start_time": "2024-10-19T08:20:13.948409",
     "status": "completed"
    },
    "tags": []
   },
   "outputs": [],
   "source": [
    "import sys\n",
    "import requests\n",
    "import tarfile\n",
    "import json\n",
    "import numpy as np\n",
    "from os import path\n",
    "from PIL import Image\n",
    "from PIL import ImageFont, ImageDraw\n",
    "from glob import glob\n",
    "from matplotlib import pyplot as plt\n",
    "%matplotlib inline\n",
    "from os import path"
   ]
  },
  {
   "cell_type": "code",
   "execution_count": 2,
   "id": "767db791",
   "metadata": {
    "execution": {
     "iopub.execute_input": "2024-10-19T08:20:14.053781Z",
     "iopub.status.busy": "2024-10-19T08:20:14.053471Z",
     "iopub.status.idle": "2024-10-19T08:29:22.701425Z",
     "shell.execute_reply": "2024-10-19T08:29:22.700542Z"
    },
    "papermill": {
     "duration": 548.654828,
     "end_time": "2024-10-19T08:29:22.705375",
     "exception": false,
     "start_time": "2024-10-19T08:20:14.050547",
     "status": "completed"
    },
    "tags": []
   },
   "outputs": [
    {
     "name": "stdout",
     "output_type": "stream",
     "text": [
      "Done! Copied 8000 images and saved the annotations to /kaggle/working/train_8000_images and /kaggle/working/train_8000_annotations.json.\n"
     ]
    }
   ],
   "source": [
    "import json\n",
    "import os\n",
    "import shutil\n",
    "\n",
    "# Load the annotations JSON file\n",
    "annotations_path = '/kaggle/input/documnet-layout-recognition-dataset-publaynet-t0/labels/publaynet/train.json'\n",
    "with open(annotations_path, 'r') as f:\n",
    "    annotations = json.load(f)\n",
    "\n",
    "# Extract images and their annotations\n",
    "image_data = {}\n",
    "for image_info in annotations['images']:\n",
    "    image_id = image_info['id']\n",
    "    file_name = image_info['file_name']\n",
    "    image_data[image_id] = {\n",
    "        'file_name': file_name,\n",
    "        'annotations': []\n",
    "    }\n",
    "\n",
    "for ann in annotations['annotations']:\n",
    "    image_id = ann['image_id']\n",
    "    image_data[image_id]['annotations'].append(ann)\n",
    "\n",
    "# Now filter annotations for only the images that are in the dataset\n",
    "image_dir = '/kaggle/input/documnet-layout-recognition-dataset-publaynet-t0/train-0/publaynet/train'\n",
    "image_files = {f for f in os.listdir(image_dir) if f.endswith(('.jpg', '.jpeg', '.png'))}\n",
    "\n",
    "filtered_annotations = {image_id: data for image_id, data in image_data.items() if data['file_name'] in image_files}\n",
    "\n",
    "# Take the first 2000 images\n",
    "filtered_annotations_8000 = dict(list(filtered_annotations.items())[:8000])\n",
    "\n",
    "# Create new folder for saving the images and annotations\n",
    "new_image_dir = '/kaggle/working/train_8000_images'\n",
    "os.makedirs(new_image_dir, exist_ok=True)\n",
    "\n",
    "# Copy the images to the new folder\n",
    "for image_id, data in filtered_annotations_8000.items():\n",
    "    src_path = os.path.join(image_dir, data['file_name'])\n",
    "    dst_path = os.path.join(new_image_dir, data['file_name'])\n",
    "    shutil.copyfile(src_path, dst_path)\n",
    "\n",
    "# Create a new annotations file in COCO format for the first 2000 images\n",
    "new_annotations = {\n",
    "    \"images\": [],\n",
    "    \"annotations\": [],\n",
    "    \"categories\": annotations[\"categories\"]  # Assuming categories stay the same\n",
    "}\n",
    "\n",
    "# Add the relevant images and annotations to the new annotations file\n",
    "for image_id, data in filtered_annotations_8000.items():\n",
    "    # Add image info\n",
    "    for img_info in annotations['images']:\n",
    "        if img_info['id'] == image_id:\n",
    "            new_annotations[\"images\"].append(img_info)\n",
    "    \n",
    "    # Add the annotations for this image\n",
    "    for ann in data['annotations']:\n",
    "        new_annotations[\"annotations\"].append(ann)\n",
    "\n",
    "# Save the new annotations file\n",
    "new_annotations_path = '/kaggle/working/train_8000_annotations.json'\n",
    "with open(new_annotations_path, 'w') as f:\n",
    "    json.dump(new_annotations, f)\n",
    "\n",
    "print(f\"Done! Copied 8000 images and saved the annotations to {new_image_dir} and {new_annotations_path}.\")\n"
   ]
  },
  {
   "cell_type": "code",
   "execution_count": 3,
   "id": "19674dff",
   "metadata": {
    "execution": {
     "iopub.execute_input": "2024-10-19T08:29:22.710455Z",
     "iopub.status.busy": "2024-10-19T08:29:22.710148Z",
     "iopub.status.idle": "2024-10-19T08:31:23.932242Z",
     "shell.execute_reply": "2024-10-19T08:31:23.931373Z"
    },
    "papermill": {
     "duration": 121.228871,
     "end_time": "2024-10-19T08:31:23.936183",
     "exception": false,
     "start_time": "2024-10-19T08:29:22.707312",
     "status": "completed"
    },
    "tags": []
   },
   "outputs": [
    {
     "name": "stdout",
     "output_type": "stream",
     "text": [
      "Zipped folder saved as /kaggle/working/train_8000_images.zip\n"
     ]
    }
   ],
   "source": [
    "import shutil\n",
    "import os\n",
    "\n",
    "# Define the folder path to be zipped\n",
    "folder_to_zip = '/kaggle/working/train_8000_images'\n",
    "\n",
    "# Define the output zip file path (without the .zip extension)\n",
    "output_zip = '/kaggle/working/train_8000_images'\n",
    "\n",
    "# Create a zip file\n",
    "shutil.make_archive(output_zip, 'zip', folder_to_zip)\n",
    "\n",
    "print(f\"Zipped folder saved as {output_zip}.zip\")\n"
   ]
  }
 ],
 "metadata": {
  "kaggle": {
   "accelerator": "gpu",
   "dataSources": [
    {
     "datasetId": 1401418,
     "sourceId": 2321785,
     "sourceType": "datasetVersion"
    }
   ],
   "dockerImageVersionId": 30787,
   "isGpuEnabled": true,
   "isInternetEnabled": true,
   "language": "python",
   "sourceType": "notebook"
  },
  "kernelspec": {
   "display_name": "Python 3",
   "language": "python",
   "name": "python3"
  },
  "language_info": {
   "codemirror_mode": {
    "name": "ipython",
    "version": 3
   },
   "file_extension": ".py",
   "mimetype": "text/x-python",
   "name": "python",
   "nbconvert_exporter": "python",
   "pygments_lexer": "ipython3",
   "version": "3.10.14"
  },
  "papermill": {
   "default_parameters": {},
   "duration": 675.801159,
   "end_time": "2024-10-19T08:31:27.058062",
   "environment_variables": {},
   "exception": null,
   "input_path": "__notebook__.ipynb",
   "output_path": "__notebook__.ipynb",
   "parameters": {},
   "start_time": "2024-10-19T08:20:11.256903",
   "version": "2.6.0"
  }
 },
 "nbformat": 4,
 "nbformat_minor": 5
}
